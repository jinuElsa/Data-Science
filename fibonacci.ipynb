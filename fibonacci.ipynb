{
  "nbformat": 4,
  "nbformat_minor": 0,
  "metadata": {
    "colab": {
      "name": "fibonacci.ipynb",
      "provenance": [],
      "authorship_tag": "ABX9TyPUj8kISwjVpuVU6qqBlaBX",
      "include_colab_link": true
    },
    "kernelspec": {
      "name": "python3",
      "display_name": "Python 3"
    },
    "language_info": {
      "name": "python"
    }
  },
  "cells": [
    {
      "cell_type": "markdown",
      "metadata": {
        "id": "view-in-github",
        "colab_type": "text"
      },
      "source": [
        "<a href=\"https://colab.research.google.com/github/jinuElsa/Data-Science/blob/main/fibonacci.ipynb\" target=\"_parent\"><img src=\"https://colab.research.google.com/assets/colab-badge.svg\" alt=\"Open In Colab\"/></a>"
      ]
    },
    {
      "cell_type": "code",
      "metadata": {
        "colab": {
          "base_uri": "https://localhost:8080/"
        },
        "id": "xU6viK01Xmch",
        "outputId": "c075ffe3-ff1c-4296-f7e1-f5825de90cd9"
      },
      "source": [
        "nterms=int(input(\"how many terms?\"))\n",
        "n1,n2=0,1\n",
        "count=0\n",
        "if nterms<=0:\n",
        "  print(\"please enter positive number\")\n",
        "elif nterms==1:\n",
        "  print(\"fibonaccisequence upto\",nterms,\":\")\n",
        "  print(n1)\n",
        "else:\n",
        "  print(\"fibonacci sequence:\")\n",
        "while count< nterms:\n",
        "  print(n1)\n",
        "  nth=n1+n2\n",
        "  n1=n2\n",
        "  n2=nth\n",
        "  count+=1"
      ],
      "execution_count": 4,
      "outputs": [
        {
          "output_type": "stream",
          "name": "stdout",
          "text": [
            "how many terms?4\n",
            "fibonacci sequence:\n",
            "0\n",
            "1\n",
            "1\n",
            "2\n"
          ]
        }
      ]
    }
  ]
}