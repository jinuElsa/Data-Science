{
  "nbformat": 4,
  "nbformat_minor": 0,
  "metadata": {
    "colab": {
      "name": "dictionary.ipynb",
      "provenance": [],
      "authorship_tag": "ABX9TyNjaJ4MOgaM3WDfLMNuWd5X",
      "include_colab_link": true
    },
    "kernelspec": {
      "name": "python3",
      "display_name": "Python 3"
    },
    "language_info": {
      "name": "python"
    }
  },
  "cells": [
    {
      "cell_type": "markdown",
      "metadata": {
        "id": "view-in-github",
        "colab_type": "text"
      },
      "source": [
        "<a href=\"https://colab.research.google.com/github/jinuElsa/Data-Science/blob/main/dictionary.ipynb\" target=\"_parent\"><img src=\"https://colab.research.google.com/assets/colab-badge.svg\" alt=\"Open In Colab\"/></a>"
      ]
    },
    {
      "cell_type": "code",
      "metadata": {
        "colab": {
          "base_uri": "https://localhost:8080/"
        },
        "id": "mmxC8ZnNaZni",
        "outputId": "92e707db-1f30-4e02-9271-9c6798c88ac8"
      },
      "source": [
        "d={1:'jimmy',2:'Alex',3:'john',4:'mike'}\n",
        "print(d)\n",
        "print(\"1st name is\"+d[1])\n",
        "print(\"2nd name is\"+d[4])\n",
        "print(d.keys())\n",
        "print(d.values())"
      ],
      "execution_count": 3,
      "outputs": [
        {
          "output_type": "stream",
          "name": "stdout",
          "text": [
            "{1: 'jimmy', 2: 'Alex', 3: 'john', 4: 'mike'}\n",
            "1st name isjimmy\n",
            "2nd name ismike\n",
            "dict_keys([1, 2, 3, 4])\n",
            "dict_values(['jimmy', 'Alex', 'john', 'mike'])\n"
          ]
        }
      ]
    }
  ]
}