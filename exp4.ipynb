{
  "nbformat": 4,
  "nbformat_minor": 0,
  "metadata": {
    "colab": {
      "name": "exp4.ipynb",
      "provenance": [],
      "authorship_tag": "ABX9TyMydeMZSK+t8pcbVauOj/sq",
      "include_colab_link": true
    },
    "kernelspec": {
      "name": "python3",
      "display_name": "Python 3"
    },
    "language_info": {
      "name": "python"
    }
  },
  "cells": [
    {
      "cell_type": "markdown",
      "metadata": {
        "id": "view-in-github",
        "colab_type": "text"
      },
      "source": [
        "<a href=\"https://colab.research.google.com/github/jinuElsa/Data-Science/blob/main/exp4.ipynb\" target=\"_parent\"><img src=\"https://colab.research.google.com/assets/colab-badge.svg\" alt=\"Open In Colab\"/></a>"
      ]
    },
    {
      "cell_type": "code",
      "metadata": {
        "id": "GldV6Hd5aotg"
      },
      "source": [
        "import pandas as pd\n",
        "import numpy as np\n",
        "import matplotlib.pyplot as plt\n",
        "import seaborn as sns \n",
        "from scipy import stats\n",
        "\n"
      ],
      "execution_count": null,
      "outputs": []
    },
    {
      "cell_type": "code",
      "metadata": {
        "colab": {
          "base_uri": "https://localhost:8080/"
        },
        "id": "sCtm5LxocbBq",
        "outputId": "b869165f-0e18-4369-f0d8-593dc47ef70f"
      },
      "source": [
        "movies_df=pd.read_csv(\"IMDb movies.csv\")\n",
        "#print the first few rows with headers\n",
        "print(movies_df.head(3))"
      ],
      "execution_count": 16,
      "outputs": [
        {
          "output_type": "stream",
          "name": "stdout",
          "text": [
            "  imdb_title_id  ... reviews_from_critics\n",
            "0     tt0000009  ...                  2.0\n",
            "1     tt0000574  ...                  7.0\n",
            "2     tt0001892  ...                  2.0\n",
            "\n",
            "[3 rows x 22 columns]\n"
          ]
        }
      ]
    },
    {
      "cell_type": "code",
      "metadata": {
        "id": "DFQRQHBekGNm"
      },
      "source": [
        "#check nulldata\n"
      ],
      "execution_count": null,
      "outputs": []
    },
    {
      "cell_type": "code",
      "metadata": {
        "colab": {
          "base_uri": "https://localhost:8080/"
        },
        "id": "oWoQ9e_bm6B4",
        "outputId": "425f8969-3a50-40db-bef7-12e7f058bb0a"
      },
      "source": [
        "#descriptive statistic\n",
        "print(movies_df.describe())\n"
      ],
      "execution_count": 18,
      "outputs": [
        {
          "output_type": "stream",
          "name": "stdout",
          "text": [
            "               year      duration  ...  reviews_from_users  reviews_from_critics\n",
            "count  11734.000000  11734.000000  ...        11482.000000          10783.000000\n",
            "mean    1946.426112     90.381285  ...           26.202230             13.831679\n",
            "std       11.370853     24.784203  ...           54.691918             22.303291\n",
            "min     1894.000000     43.000000  ...            1.000000              1.000000\n",
            "25%     1938.000000     76.000000  ...            7.000000              3.000000\n",
            "50%     1948.000000     88.000000  ...           13.000000              6.000000\n",
            "75%     1956.000000    100.000000  ...           26.000000             14.000000\n",
            "max     2001.000000    421.000000  ...         1605.000000            252.000000\n",
            "\n",
            "[8 rows x 7 columns]\n"
          ]
        }
      ]
    },
    {
      "cell_type": "code",
      "metadata": {
        "colab": {
          "base_uri": "https://localhost:8080/"
        },
        "id": "K_VhMx0Vsdo6",
        "outputId": "a66c8712-ae39-4acd-c69a-9002fa7b20cf"
      },
      "source": [
        "#check null data\n",
        "print(\"null values:\\n\")\n",
        "print(movies_df.isna())#same as movies_df.isnull().sum()\n",
        "print(movies_df.isna().sum())\n",
        "print(\"null values %s\"%movies_df.isnull().values.any())\n",
        "print(\"total null values %d\"%movies_df.isna().sum().sum())\n",
        "print(movies_df.describe())"
      ],
      "execution_count": 19,
      "outputs": [
        {
          "output_type": "stream",
          "name": "stdout",
          "text": [
            "null values:\n",
            "\n",
            "       imdb_title_id  title  ...  reviews_from_users  reviews_from_critics\n",
            "0              False  False  ...               False                 False\n",
            "1              False  False  ...               False                 False\n",
            "2              False  False  ...               False                 False\n",
            "3              False  False  ...               False                 False\n",
            "4              False  False  ...               False                 False\n",
            "...              ...    ...  ...                 ...                   ...\n",
            "11729          False  False  ...               False                 False\n",
            "11730          False  False  ...               False                 False\n",
            "11731          False  False  ...               False                 False\n",
            "11732          False  False  ...               False                 False\n",
            "11733          False  False  ...                True                  True\n",
            "\n",
            "[11734 rows x 22 columns]\n",
            "imdb_title_id                0\n",
            "title                        0\n",
            "original_title               0\n",
            "year                         0\n",
            "date_published               0\n",
            "genre                        0\n",
            "duration                     0\n",
            "country                      0\n",
            "language                   197\n",
            "director                     2\n",
            "writer                      39\n",
            "production_company          50\n",
            "actors                       2\n",
            "description                101\n",
            "avg_vote                     1\n",
            "votes                        1\n",
            "budget                    9555\n",
            "usa_gross_income         11188\n",
            "worlwide_gross_income    11231\n",
            "metascore                11408\n",
            "reviews_from_users         252\n",
            "reviews_from_critics       951\n",
            "dtype: int64\n",
            "null values True\n",
            "total null values 44978\n",
            "               year      duration  ...  reviews_from_users  reviews_from_critics\n",
            "count  11734.000000  11734.000000  ...        11482.000000          10783.000000\n",
            "mean    1946.426112     90.381285  ...           26.202230             13.831679\n",
            "std       11.370853     24.784203  ...           54.691918             22.303291\n",
            "min     1894.000000     43.000000  ...            1.000000              1.000000\n",
            "25%     1938.000000     76.000000  ...            7.000000              3.000000\n",
            "50%     1948.000000     88.000000  ...           13.000000              6.000000\n",
            "75%     1956.000000    100.000000  ...           26.000000             14.000000\n",
            "max     2001.000000    421.000000  ...         1605.000000            252.000000\n",
            "\n",
            "[8 rows x 7 columns]\n"
          ]
        }
      ]
    },
    {
      "cell_type": "code",
      "metadata": {
        "colab": {
          "base_uri": "https://localhost:8080/"
        },
        "id": "ln1WBFRpstmm",
        "outputId": "3c0b6045-fb03-48a4-94cd-016a1a56b65d"
      },
      "source": [
        "print(\"null values: \\n\"), \n",
        "print(movies_df.isna())"
      ],
      "execution_count": 20,
      "outputs": [
        {
          "output_type": "stream",
          "name": "stdout",
          "text": [
            "null values: \n",
            "\n",
            "       imdb_title_id  title  ...  reviews_from_users  reviews_from_critics\n",
            "0              False  False  ...               False                 False\n",
            "1              False  False  ...               False                 False\n",
            "2              False  False  ...               False                 False\n",
            "3              False  False  ...               False                 False\n",
            "4              False  False  ...               False                 False\n",
            "...              ...    ...  ...                 ...                   ...\n",
            "11729          False  False  ...               False                 False\n",
            "11730          False  False  ...               False                 False\n",
            "11731          False  False  ...               False                 False\n",
            "11732          False  False  ...               False                 False\n",
            "11733          False  False  ...                True                  True\n",
            "\n",
            "[11734 rows x 22 columns]\n"
          ]
        }
      ]
    }
  ]
}