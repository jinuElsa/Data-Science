{
  "nbformat": 4,
  "nbformat_minor": 0,
  "metadata": {
    "colab": {
      "name": "exp2.ipynb",
      "provenance": [],
      "authorship_tag": "ABX9TyNx6GUH5hYpUvRJqgAuxuFq",
      "include_colab_link": true
    },
    "kernelspec": {
      "name": "python3",
      "display_name": "Python 3"
    },
    "language_info": {
      "name": "python"
    }
  },
  "cells": [
    {
      "cell_type": "markdown",
      "metadata": {
        "id": "view-in-github",
        "colab_type": "text"
      },
      "source": [
        "<a href=\"https://colab.research.google.com/github/jinuElsa/Data-Science/blob/main/exp2.ipynb\" target=\"_parent\"><img src=\"https://colab.research.google.com/assets/colab-badge.svg\" alt=\"Open In Colab\"/></a>"
      ]
    },
    {
      "cell_type": "markdown",
      "metadata": {
        "id": "atid_fzBYxDs"
      },
      "source": [
        "Matrix operation"
      ]
    },
    {
      "cell_type": "code",
      "metadata": {
        "colab": {
          "base_uri": "https://localhost:8080/"
        },
        "id": "JgEWh2jiY2y0",
        "outputId": "cebcc12f-508c-4e73-d372-f63f8ab2202b"
      },
      "source": [
        "import numpy as np\n",
        "m1=np.array([[1,3],[2,6]])\n",
        "m2=np.array([[0,1],[1,9]])\n",
        "print(\"Original 2-d matrix:\")\n",
        "print(m1)\n",
        "print(m2)\n",
        "\n",
        "print(\"Outer product of the two matrix is: \")\n",
        "result=np.outer(m1,m2)\n",
        "print(result)"
      ],
      "execution_count": 2,
      "outputs": [
        {
          "output_type": "stream",
          "name": "stdout",
          "text": [
            "Original 2-d matrix:\n",
            "[[1 3]\n",
            " [2 6]]\n",
            "[[0 1]\n",
            " [1 9]]\n",
            "Outer product of the two matrix is: \n",
            "[[ 0  1  1  9]\n",
            " [ 0  3  3 27]\n",
            " [ 0  2  2 18]\n",
            " [ 0  6  6 54]]\n"
          ]
        }
      ]
    }
  ]
}