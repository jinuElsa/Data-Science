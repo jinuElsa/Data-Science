{
  "nbformat": 4,
  "nbformat_minor": 0,
  "metadata": {
    "colab": {
      "name": "exp2.ipynb",
      "provenance": [],
      "authorship_tag": "ABX9TyNYTM0fMi0VgeQzUzV0beTT",
      "include_colab_link": true
    },
    "kernelspec": {
      "name": "python3",
      "display_name": "Python 3"
    },
    "language_info": {
      "name": "python"
    }
  },
  "cells": [
    {
      "cell_type": "markdown",
      "metadata": {
        "id": "view-in-github",
        "colab_type": "text"
      },
      "source": [
        "<a href=\"https://colab.research.google.com/github/jinuElsa/Data-Science/blob/main/exp2.ipynb\" target=\"_parent\"><img src=\"https://colab.research.google.com/assets/colab-badge.svg\" alt=\"Open In Colab\"/></a>"
      ]
    },
    {
      "cell_type": "markdown",
      "metadata": {
        "id": "atid_fzBYxDs"
      },
      "source": [
        "Matrix operation"
      ]
    },
    {
      "cell_type": "code",
      "metadata": {
        "colab": {
          "base_uri": "https://localhost:8080/"
        },
        "id": "JgEWh2jiY2y0",
        "outputId": "cebcc12f-508c-4e73-d372-f63f8ab2202b"
      },
      "source": [
        "import numpy as np\n",
        "m1=np.array([[1,3],[2,6]])\n",
        "m2=np.array([[0,1],[1,9]])\n",
        "print(\"Original 2-d matrix:\")\n",
        "print(m1)\n",
        "print(m2)\n",
        "\n",
        "print(\"Outer product of the two matrix is: \")\n",
        "result=np.outer(m1,m2)\n",
        "print(result)"
      ],
      "execution_count": 2,
      "outputs": [
        {
          "output_type": "stream",
          "name": "stdout",
          "text": [
            "Original 2-d matrix:\n",
            "[[1 3]\n",
            " [2 6]]\n",
            "[[0 1]\n",
            " [1 9]]\n",
            "Outer product of the two matrix is: \n",
            "[[ 0  1  1  9]\n",
            " [ 0  3  3 27]\n",
            " [ 0  2  2 18]\n",
            " [ 0  6  6 54]]\n"
          ]
        }
      ]
    },
    {
      "cell_type": "markdown",
      "metadata": {
        "id": "WqTrPrd9ZHbD"
      },
      "source": [
        "Transformation using python\n"
      ]
    },
    {
      "cell_type": "code",
      "metadata": {
        "colab": {
          "base_uri": "https://localhost:8080/"
        },
        "id": "nBFSftscZQ8s",
        "outputId": "b81bdc91-f996-40b3-d356-37f8fbbf6983"
      },
      "source": [
        "m=[[1,2],[3,4],[5,6]]\n",
        "for row in m:\n",
        "  print(row)\n",
        "res=[[m[j][i] for j in range(len(m))] for i in range(len(m[0]))]\n",
        "print(\"\\n\")\n",
        "for row in res:\n",
        "  print(row)"
      ],
      "execution_count": 3,
      "outputs": [
        {
          "output_type": "stream",
          "name": "stdout",
          "text": [
            "[1, 2]\n",
            "[3, 4]\n",
            "[5, 6]\n",
            "\n",
            "\n",
            "[1, 3, 5]\n",
            "[2, 4, 6]\n"
          ]
        }
      ]
    },
    {
      "cell_type": "markdown",
      "metadata": {
        "id": "QO0Yz0i-ZZp1"
      },
      "source": [
        "SVD using python"
      ]
    },
    {
      "cell_type": "code",
      "metadata": {
        "id": "52BxJSE4Zd4k",
        "outputId": "b8fea471-0500-4224-e0dc-7f57dfb9c34d",
        "colab": {
          "base_uri": "https://localhost:8080/"
        }
      },
      "source": [
        "from numpy import array\n",
        "from scipy.linalg import svd\n",
        "print(\"array is: \")\n",
        "A=array([[1,2],[3,4],[5,6]])\n",
        "print(A)\n",
        "u,s,vt=svd(A)\n",
        "print(\"u\")\n",
        "print(u)\n",
        "print(\"s\")\n",
        "print(s)\n",
        "print(\"vt\")\n",
        "print(vt)"
      ],
      "execution_count": 4,
      "outputs": [
        {
          "output_type": "stream",
          "name": "stdout",
          "text": [
            "array is: \n",
            "[[1 2]\n",
            " [3 4]\n",
            " [5 6]]\n",
            "u\n",
            "[[-0.2298477   0.88346102  0.40824829]\n",
            " [-0.52474482  0.24078249 -0.81649658]\n",
            " [-0.81964194 -0.40189603  0.40824829]]\n",
            "s\n",
            "[9.52551809 0.51430058]\n",
            "vt\n",
            "[[-0.61962948 -0.78489445]\n",
            " [-0.78489445  0.61962948]]\n"
          ]
        }
      ]
    }
  ]
}